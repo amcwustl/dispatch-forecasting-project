{
 "cells": [
  {
   "cell_type": "code",
   "execution_count": null,
   "id": "7fdb62d3",
   "metadata": {},
   "outputs": [],
   "source": [
    "\n",
    "import joblib\n",
    "\n",
    "# Save the trained model and the list of feature columns to the 'app' directory\n",
    "joblib.dump(model, '../app/call_forecasting_model.pkl')\n",
    "joblib.dump(feature_columns, '../app/model_feature_columns.pkl')\n",
    "\n",
    "print(\"Model and feature columns saved successfully to the 'app' directory.\")"
   ]
  }
 ],
 "metadata": {
  "kernelspec": {
   "display_name": "venv",
   "language": "python",
   "name": "python3"
  },
  "language_info": {
   "name": "python",
   "version": "3.12.5"
  }
 },
 "nbformat": 4,
 "nbformat_minor": 5
}
